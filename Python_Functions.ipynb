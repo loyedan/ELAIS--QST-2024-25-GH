{
  "nbformat": 4,
  "nbformat_minor": 0,
  "metadata": {
    "colab": {
      "provenance": [],
      "authorship_tag": "ABX9TyMKtw24XvvgOd1U9zFYgm6I",
      "include_colab_link": true
    },
    "kernelspec": {
      "name": "python3",
      "display_name": "Python 3"
    },
    "language_info": {
      "name": "python"
    }
  },
  "cells": [
    {
      "cell_type": "markdown",
      "metadata": {
        "id": "view-in-github",
        "colab_type": "text"
      },
      "source": [
        "<a href=\"https://colab.research.google.com/github/loyedan/ELAIS--QST-2024-25-GH/blob/main/Python_Functions.ipynb\" target=\"_parent\"><img src=\"https://colab.research.google.com/assets/colab-badge.svg\" alt=\"Open In Colab\"/></a>"
      ]
    },
    {
      "cell_type": "markdown",
      "source": [
        "# **Linear Algebra with Python**"
      ],
      "metadata": {
        "id": "4Bm2OyoUCKJ2"
      }
    },
    {
      "cell_type": "markdown",
      "source": [
        "# **Python Functions**"
      ],
      "metadata": {
        "id": "wr2UA_d8COU8"
      }
    },
    {
      "cell_type": "markdown",
      "source": [
        "Creating a function"
      ],
      "metadata": {
        "id": "jO4Fo_4mCSn_"
      }
    },
    {
      "cell_type": "code",
      "execution_count": null,
      "metadata": {
        "id": "TlvF8J1wBvs0"
      },
      "outputs": [],
      "source": [
        "def my_function():\n",
        "  print(\"Hello from a function\")"
      ]
    },
    {
      "cell_type": "markdown",
      "source": [
        "Calling a function"
      ],
      "metadata": {
        "id": "j0qacBmQCbnI"
      }
    },
    {
      "cell_type": "code",
      "source": [
        "my_function()\n"
      ],
      "metadata": {
        "colab": {
          "base_uri": "https://localhost:8080/"
        },
        "id": "66asDyITCa19",
        "outputId": "7d44e079-290c-4aa5-f0d7-a3fe81473b7f"
      },
      "execution_count": null,
      "outputs": [
        {
          "output_type": "stream",
          "name": "stdout",
          "text": [
            "Hello from a function\n"
          ]
        }
      ]
    },
    {
      "cell_type": "markdown",
      "source": [
        "# **Argunents**"
      ],
      "metadata": {
        "id": "dl_MAvtYDDIv"
      }
    },
    {
      "cell_type": "markdown",
      "source": [
        "Example 1"
      ],
      "metadata": {
        "id": "_lstWIusDtNh"
      }
    },
    {
      "cell_type": "code",
      "source": [
        "def my_function(fname):\n",
        "  print(fname + \" Ofori\")\n",
        "\n",
        "my_function(\"Daniel\")"
      ],
      "metadata": {
        "colab": {
          "base_uri": "https://localhost:8080/"
        },
        "id": "P4hnL8amCqeY",
        "outputId": "66c199f8-1779-490f-a38f-f92b1264304e"
      },
      "execution_count": null,
      "outputs": [
        {
          "output_type": "stream",
          "name": "stdout",
          "text": [
            "Daniel Ofori\n"
          ]
        }
      ]
    },
    {
      "cell_type": "markdown",
      "source": [
        "# **Parameters and Arguments**"
      ],
      "metadata": {
        "id": "U5ynC46mEA71"
      }
    },
    {
      "cell_type": "markdown",
      "source": [
        "# Example 1"
      ],
      "metadata": {
        "id": "qZ9lqZKHEGU8"
      }
    },
    {
      "cell_type": "code",
      "source": [
        "# the function expects 2 arguments ad gets 2 argument\n",
        "\n",
        "def my_function(fname, lname):\n",
        "  print(fname + \" \" + lname)\n",
        "\n",
        "my_function(\"Daniel\", \"Ofori\")"
      ],
      "metadata": {
        "colab": {
          "base_uri": "https://localhost:8080/"
        },
        "id": "qcMxYFBoEJxl",
        "outputId": "29d8cbaa-63e7-4480-e028-58e3be3251ff"
      },
      "execution_count": null,
      "outputs": [
        {
          "output_type": "stream",
          "name": "stdout",
          "text": [
            "Daniel Ofori\n"
          ]
        }
      ]
    },
    {
      "cell_type": "markdown",
      "source": [
        "# **Trial Example 1**"
      ],
      "metadata": {
        "id": "TtEj3LDKFbYS"
      }
    },
    {
      "source": [
        "def add_numbers(x, y):\n",
        "  \"\"\"This function adds two numbers and returns the result.\"\"\"\n",
        "  result = x + y\n",
        "  return result\n",
        "\n",
        "# Call the function\n",
        "sum = add_numbers(5, 3)"
      ],
      "cell_type": "code",
      "metadata": {
        "id": "eQYqkjDuFXBM"
      },
      "execution_count": null,
      "outputs": []
    },
    {
      "source": [
        "import numpy as np\n",
        "\n",
        "def probability_density(potential, x):\n",
        "  \"\"\"Calculates the probability density of a particle in a given potential.\n",
        "\n",
        "  Args:\n",
        "    potential: A function that defines the potential energy of the particle.\n",
        "    x: The position at which to calculate the probability density.\n",
        "\n",
        "  Returns:\n",
        "    The probability density at the given position.\n",
        "  \"\"\"\n",
        "\n",
        "  # Solve the time-independent Schrödinger equation\n",
        "  # ...\n",
        "\n",
        "  # Calculate the probability density from the wavefunction\n",
        "  # ...\n",
        "\n",
        "  return probability_density"
      ],
      "cell_type": "code",
      "metadata": {
        "id": "P-Cnn_WZP2MY"
      },
      "execution_count": null,
      "outputs": []
    }
  ]
}