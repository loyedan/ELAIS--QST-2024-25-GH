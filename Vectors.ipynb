{
  "nbformat": 4,
  "nbformat_minor": 0,
  "metadata": {
    "colab": {
      "provenance": [],
      "authorship_tag": "ABX9TyMoh+W8eFdAqSJ54g8TRiOX",
      "include_colab_link": true
    },
    "kernelspec": {
      "name": "python3",
      "display_name": "Python 3"
    },
    "language_info": {
      "name": "python"
    }
  },
  "cells": [
    {
      "cell_type": "markdown",
      "metadata": {
        "id": "view-in-github",
        "colab_type": "text"
      },
      "source": [
        "<a href=\"https://colab.research.google.com/github/loyedan/ELAIS--QST-2024-25-GH/blob/main/Vectors.ipynb\" target=\"_parent\"><img src=\"https://colab.research.google.com/assets/colab-badge.svg\" alt=\"Open In Colab\"/></a>"
      ]
    },
    {
      "cell_type": "markdown",
      "source": [
        "# **Linear Algrebra with Python - Vectors**"
      ],
      "metadata": {
        "id": "pEjNAsRnEyAj"
      }
    },
    {
      "cell_type": "markdown",
      "source": [
        "### **Vectors**"
      ],
      "metadata": {
        "id": "7t1PVQACFDDC"
      }
    },
    {
      "cell_type": "markdown",
      "source": [
        "Hilbert Space"
      ],
      "metadata": {
        "id": "j-c4iN2NFKzj"
      }
    }
  ]
}