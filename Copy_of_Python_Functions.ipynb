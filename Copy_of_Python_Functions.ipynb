{
  "nbformat": 4,
  "nbformat_minor": 0,
  "metadata": {
    "colab": {
      "provenance": [],
      "toc_visible": true,
      "authorship_tag": "ABX9TyNQ7l1HbNPgcIwx+MUrUUKj",
      "include_colab_link": true
    },
    "kernelspec": {
      "name": "python3",
      "display_name": "Python 3"
    },
    "language_info": {
      "name": "python"
    }
  },
  "cells": [
    {
      "cell_type": "markdown",
      "metadata": {
        "id": "view-in-github",
        "colab_type": "text"
      },
      "source": [
        "<a href=\"https://colab.research.google.com/github/loyedan/ELAIS--QST-2024-25-GH/blob/main/Copy_of_Python_Functions.ipynb\" target=\"_parent\"><img src=\"https://colab.research.google.com/assets/colab-badge.svg\" alt=\"Open In Colab\"/></a>"
      ]
    },
    {
      "cell_type": "markdown",
      "source": [
        "# **Linear Algebra with Python**"
      ],
      "metadata": {
        "id": "4Bm2OyoUCKJ2"
      }
    },
    {
      "cell_type": "markdown",
      "source": [
        "## **Python Functions**"
      ],
      "metadata": {
        "id": "wr2UA_d8COU8"
      }
    },
    {
      "cell_type": "markdown",
      "source": [
        "Creating a function"
      ],
      "metadata": {
        "id": "jO4Fo_4mCSn_"
      }
    },
    {
      "cell_type": "code",
      "execution_count": null,
      "metadata": {
        "id": "TlvF8J1wBvs0"
      },
      "outputs": [],
      "source": [
        "def my_function():\n",
        "  print(\"Hello from a function\")"
      ]
    },
    {
      "cell_type": "markdown",
      "source": [
        "Calling a function"
      ],
      "metadata": {
        "id": "j0qacBmQCbnI"
      }
    },
    {
      "cell_type": "code",
      "source": [
        "my_function()\n"
      ],
      "metadata": {
        "colab": {
          "base_uri": "https://localhost:8080/"
        },
        "id": "66asDyITCa19",
        "outputId": "7d44e079-290c-4aa5-f0d7-a3fe81473b7f"
      },
      "execution_count": null,
      "outputs": [
        {
          "output_type": "stream",
          "name": "stdout",
          "text": [
            "Hello from a function\n"
          ]
        }
      ]
    },
    {
      "cell_type": "markdown",
      "source": [
        "## **Argunents**"
      ],
      "metadata": {
        "id": "dl_MAvtYDDIv"
      }
    },
    {
      "cell_type": "markdown",
      "source": [
        "Example 1"
      ],
      "metadata": {
        "id": "_lstWIusDtNh"
      }
    },
    {
      "cell_type": "code",
      "source": [
        "def my_function(fname):\n",
        "  print(fname + \" Ofori\")\n",
        "\n",
        "my_function(\"Daniel\")"
      ],
      "metadata": {
        "colab": {
          "base_uri": "https://localhost:8080/"
        },
        "id": "P4hnL8amCqeY",
        "outputId": "66c199f8-1779-490f-a38f-f92b1264304e"
      },
      "execution_count": null,
      "outputs": [
        {
          "output_type": "stream",
          "name": "stdout",
          "text": [
            "Daniel Ofori\n"
          ]
        }
      ]
    },
    {
      "cell_type": "markdown",
      "source": [
        "## **Parameters and Arguments**"
      ],
      "metadata": {
        "id": "U5ynC46mEA71"
      }
    },
    {
      "cell_type": "markdown",
      "source": [
        "### **Number of Arguments**"
      ],
      "metadata": {
        "id": "jAumUrlpuuSx"
      }
    },
    {
      "cell_type": "markdown",
      "source": [
        "### Example 1"
      ],
      "metadata": {
        "id": "qZ9lqZKHEGU8"
      }
    },
    {
      "cell_type": "code",
      "source": [
        "# the function expects 2 arguments ad gets 2 argument\n",
        "# First name  = fname - 1st paramter\n",
        "# last name = lname - 2nd parameter\n",
        "\n",
        "\n",
        "def my_function(fname, lname): # define a function called my_function with two paramters fname and lname\n",
        "  print(fname + \" \" + lname)   # when you call on our function print (fname and lname)\n",
        "\n",
        "my_function(\"Daniel\", \"Ofori\") # we called on our function with its arguments"
      ],
      "metadata": {
        "colab": {
          "base_uri": "https://localhost:8080/"
        },
        "id": "qcMxYFBoEJxl",
        "outputId": "29d8cbaa-63e7-4480-e028-58e3be3251ff"
      },
      "execution_count": null,
      "outputs": [
        {
          "output_type": "stream",
          "name": "stdout",
          "text": [
            "Daniel Ofori\n"
          ]
        }
      ]
    },
    {
      "cell_type": "markdown",
      "source": [
        "### **Trial Example 1**"
      ],
      "metadata": {
        "id": "TtEj3LDKFbYS"
      }
    },
    {
      "source": [
        "import numpy as np\n",
        "\n",
        "def probability_density(potential, x):\n",
        "  \"\"\"Calculates the probability density of a particle in a given potential.\n",
        "\n",
        "  Args:\n",
        "    potential: A function that defines the potential energy of the particle.\n",
        "    x: The position at which to calculate the probability density.\n",
        "\n",
        "  Returns:\n",
        "    The probability density at the given position.\n",
        "  \"\"\"\n",
        "\n",
        "  # Solve the time-independent Schrödinger equation\n",
        "  # ...\n",
        "\n",
        "  # Calculate the probability density from the wavefunction\n",
        "  # ...\n",
        "\n",
        "  return probability_density"
      ],
      "cell_type": "code",
      "metadata": {
        "id": "P-Cnn_WZP2MY"
      },
      "execution_count": null,
      "outputs": []
    },
    {
      "source": [
        "!pip install pingouin\n",
        "\n",
        "import pingouin as pg\n",
        "\n",
        "def cronbach_alpha(data):\n",
        "  \"\"\"Calculates Cronbach's alpha for a dataset.\n",
        "\n",
        "  Args:\n",
        "    data: A pandas DataFrame containing the items for which to calculate alpha.\n",
        "\n",
        "  Returns:\n",
        "    Cronbach's alpha as a float.\n",
        "  \"\"\"\n",
        "  return pg.cronbach_alpha(data=data)[0]\n",
        "\n",
        "# Example usage (replace with your actual data)\n",
        "data = pg.read_dataset('cronbach_alpha')\n",
        "\n",
        "alpha = cronbach_alpha(data)\n",
        "print(f\"Cronbach's alpha: {alpha}\")"
      ],
      "cell_type": "code",
      "metadata": {
        "id": "gCKRHjWN-nps"
      },
      "execution_count": null,
      "outputs": []
    },
    {
      "cell_type": "markdown",
      "source": [
        "## Arbitary Arguments, *args"
      ],
      "metadata": {
        "id": "ONojiFU_v5qm"
      }
    },
    {
      "cell_type": "code",
      "source": [
        "# if the number is unknown, we add \"*\" before the parameter:\n",
        "def my_function(*kids): # Defined a function with unknown number of parameters\n",
        "  print(\"The youngest child is \" + kids[2]) # when you call on the function pick the youngest amongst the arguments\n",
        "\n",
        "my_function(\"Emil\", \"Kwadwo\", \"Pablo\", \"Ben\")\n"
      ],
      "metadata": {
        "id": "oAEKyTkCv4ot",
        "outputId": "f0ffa791-9c69-4352-9559-c197129e71d2",
        "colab": {
          "base_uri": "https://localhost:8080/"
        }
      },
      "execution_count": null,
      "outputs": [
        {
          "output_type": "stream",
          "name": "stdout",
          "text": [
            "The youngest child is Pablo\n"
          ]
        }
      ]
    },
    {
      "cell_type": "code",
      "source": [
        "# if the number is unknown, we add \"*\" before the parameter:\n",
        "def my_function(*kids): # Defined a function with unknown number of parameters\n",
        "  print(\"The youngest child is \" + kids[-1]) # when you call on the function pick the youngest amongst the arguments\n",
        "\n",
        "my_function(\"Emil\", \"Kwadwo\", \"Pablo\", \"Ben\")\n"
      ],
      "metadata": {
        "colab": {
          "base_uri": "https://localhost:8080/"
        },
        "id": "EsIiIhZ_xlP2",
        "outputId": "71e1929e-20f8-4e29-959a-a99c58393333"
      },
      "execution_count": null,
      "outputs": [
        {
          "output_type": "stream",
          "name": "stdout",
          "text": [
            "The youngest child is Ben\n"
          ]
        }
      ]
    },
    {
      "cell_type": "code",
      "source": [],
      "metadata": {
        "id": "FnUfQL9aykOr"
      },
      "execution_count": null,
      "outputs": []
    },
    {
      "cell_type": "code",
      "source": [
        "# if the number is unknown, we add \"*\" before the parameter:\n",
        "def my_function(*kids): # Defined a function with unknown number of parameters\n",
        "  print(\"The youngest child is \" + kids[-4]) # when you call on the function pick the youngest amongst the arguments\n",
        "\n",
        "my_function(\"Emil\", \"Kwadwo\", \"Pablo\", \"Ben\")\n"
      ],
      "metadata": {
        "outputId": "b61c4915-6861-4298-ae69-829a1cea0580",
        "colab": {
          "base_uri": "https://localhost:8080/"
        },
        "id": "kyn73cJqynW5"
      },
      "execution_count": null,
      "outputs": [
        {
          "output_type": "stream",
          "name": "stdout",
          "text": [
            "The youngest child is Emil\n"
          ]
        }
      ]
    },
    {
      "cell_type": "markdown",
      "source": [
        "## **Keyword Arguments**"
      ],
      "metadata": {
        "id": "vIFew_dLzLvC"
      }
    },
    {
      "cell_type": "code",
      "source": [
        "def my_children(child3, child2, child1):\n",
        "  print(\"The youngest child is \" + child3) # Here the key is the youngest of my children is always the 3rd child\n",
        "\n",
        "my_children(child3 = \"Dan\", child2 = \"Kwadwo\", child1 = \"Pablo\")"
      ],
      "metadata": {
        "colab": {
          "base_uri": "https://localhost:8080/"
        },
        "id": "8hlMFZ7tzd8R",
        "outputId": "13f2df44-f8ab-47bf-e889-669473f529d7"
      },
      "execution_count": null,
      "outputs": [
        {
          "output_type": "stream",
          "name": "stdout",
          "text": [
            "The youngest child is Dan\n"
          ]
        }
      ]
    },
    {
      "cell_type": "code",
      "source": [
        "def my_company(zmart, zmartlabs, zmartgh):\n",
        "  print(\"My company's name was developed in \" + zmartlabs) # Here the key is My company's name was developed is always the year stated\n",
        "\n",
        "my_company(zmart = \"2019\", zmartlabs = \"2023\", zmartgh = \"2020\")"
      ],
      "metadata": {
        "outputId": "3cf716a8-8436-4f51-e7b4-89bc2befbb00",
        "colab": {
          "base_uri": "https://localhost:8080/"
        },
        "id": "-VU_LOds00YR"
      },
      "execution_count": null,
      "outputs": [
        {
          "output_type": "stream",
          "name": "stdout",
          "text": [
            "My company's name was developed in 2023\n"
          ]
        }
      ]
    },
    {
      "cell_type": "code",
      "source": [
        "def my_company(zmart, zmartlabs, zmartgh):\n",
        "  print(\"My company's name was developed in \" + zmartlabs) # Here the key is My company's name was developed is always the year stated\n",
        "\n",
        "my_company(zmartlabs = \"2024\", zmartgh = \"2019\", zmart = \"2020\")"
      ],
      "metadata": {
        "id": "H2TsaJMP2Wil",
        "outputId": "436f4aaa-0357-49cb-8337-038970835316",
        "colab": {
          "base_uri": "https://localhost:8080/"
        }
      },
      "execution_count": null,
      "outputs": [
        {
          "output_type": "stream",
          "name": "stdout",
          "text": [
            "My company's name was developed in 2024\n"
          ]
        }
      ]
    },
    {
      "cell_type": "code",
      "source": [
        "def my_company(zmart, zmartlabs, zmartgh):\n",
        "  print(\"My company's name was developed in \" + zmartlabs) # Here the key is My company's name was developed is always the year stated\n",
        "\n",
        "my_company(zmart = \"2019\", zmartlabs = \"2023\")"
      ],
      "metadata": {
        "collapsed": true,
        "id": "bLxWphNX3FrO",
        "outputId": "acd4caff-b0a9-459c-84a3-e5d45421a050",
        "colab": {
          "base_uri": "https://localhost:8080/",
          "height": 199
        }
      },
      "execution_count": null,
      "outputs": [
        {
          "output_type": "error",
          "ename": "TypeError",
          "evalue": "my_company() missing 1 required positional argument: 'zmartgh'",
          "traceback": [
            "\u001b[0;31m---------------------------------------------------------------------------\u001b[0m",
            "\u001b[0;31mTypeError\u001b[0m                                 Traceback (most recent call last)",
            "\u001b[0;32m<ipython-input-12-62712ed535a0>\u001b[0m in \u001b[0;36m<cell line: 4>\u001b[0;34m()\u001b[0m\n\u001b[1;32m      2\u001b[0m   \u001b[0mprint\u001b[0m\u001b[0;34m(\u001b[0m\u001b[0;34m\"My company's name was developed in \"\u001b[0m \u001b[0;34m+\u001b[0m \u001b[0mzmartlabs\u001b[0m\u001b[0;34m)\u001b[0m \u001b[0;31m# Here the key is My company's name was developed is always the year stated\u001b[0m\u001b[0;34m\u001b[0m\u001b[0;34m\u001b[0m\u001b[0m\n\u001b[1;32m      3\u001b[0m \u001b[0;34m\u001b[0m\u001b[0m\n\u001b[0;32m----> 4\u001b[0;31m \u001b[0mmy_company\u001b[0m\u001b[0;34m(\u001b[0m\u001b[0mzmart\u001b[0m \u001b[0;34m=\u001b[0m \u001b[0;34m\"2019\"\u001b[0m\u001b[0;34m,\u001b[0m \u001b[0mzmartlabs\u001b[0m \u001b[0;34m=\u001b[0m \u001b[0;34m\"2023\"\u001b[0m\u001b[0;34m)\u001b[0m\u001b[0;34m\u001b[0m\u001b[0;34m\u001b[0m\u001b[0m\n\u001b[0m",
            "\u001b[0;31mTypeError\u001b[0m: my_company() missing 1 required positional argument: 'zmartgh'"
          ]
        }
      ]
    },
    {
      "cell_type": "markdown",
      "source": [
        "***Avoid the Tyeerror made***"
      ],
      "metadata": {
        "id": "qh9CqQ7U3xLY"
      }
    },
    {
      "source": [
        "def my_company(zmart, zmartlabs, zmartgh):\n",
        "  print(\"My company's name was developed in \" + zmartlabs) # Here the key is My company's name was developed is always the year stated\n",
        "\n",
        "my_company(zmart = \"2019\", zmartlabs = \"2023\", zmartgh=\"2022\") # Added a value for the missing argument zmartgh"
      ],
      "cell_type": "code",
      "metadata": {
        "id": "HBWEoWOr3oI9",
        "outputId": "b9399a0b-fd7e-47d5-c768-7f97af41161e",
        "colab": {
          "base_uri": "https://localhost:8080/"
        }
      },
      "execution_count": null,
      "outputs": [
        {
          "output_type": "stream",
          "name": "stdout",
          "text": [
            "My company's name was developed in 2023\n"
          ]
        }
      ]
    },
    {
      "cell_type": "code",
      "source": [
        "def my_shoppinglist(cereals, drinks, meat, toletries, fruits, vegetables):\n",
        "  print(\"My favourite food is \" + meat)\n",
        "\n",
        "  my_shoppinglist(vegetables = \"tomatoes\", drinks = \"2\", meat = \"fish\", toiletriess = \"4\", fruits = \"5\", cereals = \"34\")"
      ],
      "metadata": {
        "id": "CfnUPB8G3101"
      },
      "execution_count": null,
      "outputs": []
    },
    {
      "cell_type": "code",
      "source": [
        "def my_shoppinglist(cereals, drinks, meat, toletries, fruits, vegetables):\n",
        "  print(\"My favourite food is \" + meat)\n",
        "\n",
        "  my_shoppinglist(vegetables = \"tomatoes\", drinks = \"2\", meat = \"fish\", toiletriess = \"4\", fruits = \"5\", cereals = \"34\")"
      ],
      "metadata": {
        "id": "jBmhy_WD55pw"
      },
      "execution_count": null,
      "outputs": []
    },
    {
      "cell_type": "markdown",
      "source": [
        "## Arbitary Keyword Arguments, **kwargs"
      ],
      "metadata": {
        "id": "YEPmKrB45c3h"
      }
    },
    {
      "cell_type": "code",
      "source": [
        "def my_function(**kid):\n",
        "  print(\"His last name is \" + kid[\"lname\"])\n",
        "\n",
        "my_function(fname = \"Tobias\", lname = \"Pontius\")"
      ],
      "metadata": {
        "id": "bsX1H_mm7LyP",
        "outputId": "d7edda2e-cb3b-472a-9ccd-3a5f24ffbf24",
        "colab": {
          "base_uri": "https://localhost:8080/"
        }
      },
      "execution_count": null,
      "outputs": [
        {
          "output_type": "stream",
          "name": "stdout",
          "text": [
            "His last name is Pontius\n"
          ]
        }
      ]
    },
    {
      "cell_type": "markdown",
      "source": [
        "## **Default Parameter Value**"
      ],
      "metadata": {
        "id": "ArPwqcdRAeiM"
      }
    },
    {
      "cell_type": "code",
      "source": [
        "def my_birthcountry(country = \"Ghana\"):\n",
        "  print(\"I am from \" + country)\n",
        "\n",
        "my_birthcountry()\n",
        "my_birthcountry(\"Nigeria\")\n",
        "my_birthcountry(\"Togo\")\n",
        "my_birthcountry(\"South Africa\")\n"
      ],
      "metadata": {
        "colab": {
          "base_uri": "https://localhost:8080/"
        },
        "id": "8Y1k8FWbAoCV",
        "outputId": "06fa32f8-8770-410b-a302-64f441b5eda7"
      },
      "execution_count": null,
      "outputs": [
        {
          "output_type": "stream",
          "name": "stdout",
          "text": [
            "I am from Ghana\n",
            "I am from Nigeria\n",
            "I am from Togo\n",
            "I am from South Africa\n"
          ]
        }
      ]
    },
    {
      "cell_type": "markdown",
      "source": [
        "## **Passing a list as an argument**"
      ],
      "metadata": {
        "id": "ZboGoa1EC09I"
      }
    },
    {
      "cell_type": "code",
      "source": [
        "def my_choice_food(food):\n",
        "  for x in food:\n",
        "    print(x)\n",
        "\n",
        "fruits = [\"apple\", \"banana\", \"cherry\"]\n",
        "snacks = [\"chips\", \"crackers\", \"cookies\"]\n",
        "salads = [\"caesar\", \"greek\", \"italian\"]\n",
        "\n",
        "my_choice_food(fruits)"
      ],
      "metadata": {
        "id": "elgAIr-NB888",
        "outputId": "c6322408-bb72-4296-d7dd-96c65c6edf8c",
        "colab": {
          "base_uri": "https://localhost:8080/"
        }
      },
      "execution_count": null,
      "outputs": [
        {
          "output_type": "stream",
          "name": "stdout",
          "text": [
            "apple\n",
            "banana\n",
            "cherry\n"
          ]
        }
      ]
    },
    {
      "cell_type": "markdown",
      "source": [
        "## **Return Values**"
      ],
      "metadata": {
        "id": "iCnSBiV0ENjf"
      }
    },
    {
      "cell_type": "code",
      "source": [
        "def my_function(x):\n",
        "  return 5 * x\n",
        "\n",
        "print(my_function(3))\n",
        "print(my_function(5))\n",
        "print(my_function(9))"
      ],
      "metadata": {
        "id": "gQHdlN90EUJt",
        "outputId": "4a0c3566-f13b-4b36-a729-b96e6b46802f",
        "colab": {
          "base_uri": "https://localhost:8080/"
        }
      },
      "execution_count": null,
      "outputs": [
        {
          "output_type": "stream",
          "name": "stdout",
          "text": [
            "15\n",
            "25\n",
            "45\n"
          ]
        }
      ]
    },
    {
      "cell_type": "markdown",
      "source": [
        "## **The pass statement**"
      ],
      "metadata": {
        "id": "0MVAs3MHFfFi"
      }
    },
    {
      "cell_type": "code",
      "source": [
        "def myfunction():\n",
        "  pass"
      ],
      "metadata": {
        "id": "6CItCfvrGFGi"
      },
      "execution_count": null,
      "outputs": []
    },
    {
      "cell_type": "markdown",
      "source": [
        "## **Position-Only Argunents**"
      ],
      "metadata": {
        "id": "3RjvtmxuGNHf"
      }
    },
    {
      "cell_type": "code",
      "source": [
        "def my_function(x, y, /):\n",
        "  print(x, y)\n",
        "\n",
        "my_function(1, 2)"
      ],
      "metadata": {
        "id": "Dt0Wbn8aGVk-",
        "outputId": "78fcdf31-fa01-455b-c2cd-ad10e0ac2548",
        "colab": {
          "base_uri": "https://localhost:8080/"
        }
      },
      "execution_count": null,
      "outputs": [
        {
          "output_type": "stream",
          "name": "stdout",
          "text": [
            "1 2\n"
          ]
        }
      ]
    },
    {
      "cell_type": "markdown",
      "source": [
        "## **Keyword-Only Arguments**"
      ],
      "metadata": {
        "id": "XNk5jfPHHBYy"
      }
    },
    {
      "cell_type": "code",
      "source": [
        "def my_function(*, x, y):\n",
        "  print(x, y)\n",
        "\n",
        "my_function(x=1, y=2)"
      ],
      "metadata": {
        "id": "ZKdlUpdWHIOD",
        "outputId": "ed790ee1-df4c-44e4-fb6c-fc13a2fa6fbf",
        "colab": {
          "base_uri": "https://localhost:8080/"
        }
      },
      "execution_count": null,
      "outputs": [
        {
          "output_type": "stream",
          "name": "stdout",
          "text": [
            "1 2\n"
          ]
        }
      ]
    },
    {
      "cell_type": "markdown",
      "source": [
        "Combine Positional-Only and Keyword-Only"
      ],
      "metadata": {
        "id": "nsRO-_wvHu9F"
      }
    },
    {
      "cell_type": "code",
      "source": [
        "def my_function(x, y, /, z, *, a, b):\n",
        "  print(x, y, z, a, b)\n",
        "\n",
        "my_function(1, 2, 3, a=4, b=5)"
      ],
      "metadata": {
        "id": "YyTytaGCH4a2",
        "outputId": "b2f7f8cb-894d-4a37-88cc-fbab8ecd9756",
        "colab": {
          "base_uri": "https://localhost:8080/"
        }
      },
      "execution_count": null,
      "outputs": [
        {
          "output_type": "stream",
          "name": "stdout",
          "text": [
            "1 2 3 4 5\n"
          ]
        }
      ]
    }
  ]
}