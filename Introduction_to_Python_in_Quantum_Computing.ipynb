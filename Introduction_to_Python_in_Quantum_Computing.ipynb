{
  "nbformat": 4,
  "nbformat_minor": 0,
  "metadata": {
    "colab": {
      "provenance": [],
      "authorship_tag": "ABX9TyPWSXjdohlY8nc4B8Z8rlnr",
      "include_colab_link": true
    },
    "kernelspec": {
      "name": "python3",
      "display_name": "Python 3"
    },
    "language_info": {
      "name": "python"
    }
  },
  "cells": [
    {
      "cell_type": "markdown",
      "metadata": {
        "id": "view-in-github",
        "colab_type": "text"
      },
      "source": [
        "<a href=\"https://colab.research.google.com/github/loyedan/ELAIS--QST-2024-25-GH/blob/main/Introduction_to_Python_in_Quantum_Computing.ipynb\" target=\"_parent\"><img src=\"https://colab.research.google.com/assets/colab-badge.svg\" alt=\"Open In Colab\"/></a>"
      ]
    },
    {
      "cell_type": "markdown",
      "source": [
        "**Introduction to Python in Quantum Computing**"
      ],
      "metadata": {
        "id": "dfa_4s1Cujbn"
      }
    },
    {
      "cell_type": "markdown",
      "source": [
        "Trial code, working with basic arithmetic, strings, integers"
      ],
      "metadata": {
        "id": "PDFn6V8MuuJx"
      }
    },
    {
      "cell_type": "code",
      "execution_count": null,
      "metadata": {
        "colab": {
          "base_uri": "https://localhost:8080/"
        },
        "id": "hciWJEhlugQL",
        "outputId": "163996ed-ea62-48c8-cfd5-b4345ab4cdcd"
      },
      "outputs": [
        {
          "output_type": "stream",
          "name": "stdout",
          "text": [
            "My name is Daniel Ofori\n",
            "27\n",
            "1.83m\n"
          ]
        }
      ],
      "source": [
        "My_name = \"My name is Daniel Ofori\"\n",
        "print(My_name)\n",
        "\n",
        "My_age = 2024 - 1997\n",
        "print(My_age)\n",
        "\n",
        "My_height = \"1.83m\"\n",
        "print(My_height)"
      ]
    },
    {
      "cell_type": "markdown",
      "source": [
        "Creating variables"
      ],
      "metadata": {
        "id": "eVHbnPCeyXP6"
      }
    },
    {
      "cell_type": "code",
      "source": [
        "6 * 365 * 24 * 60 * 60"
      ],
      "metadata": {
        "colab": {
          "base_uri": "https://localhost:8080/"
        },
        "id": "rNMAmrJ4xerw",
        "outputId": "12902999-2626-47ca-a780-af7ec2afe201"
      },
      "execution_count": null,
      "outputs": [
        {
          "output_type": "execute_result",
          "data": {
            "text/plain": [
              "189216000"
            ]
          },
          "metadata": {},
          "execution_count": 5
        }
      ]
    },
    {
      "cell_type": "markdown",
      "source": [
        "working with floats"
      ],
      "metadata": {
        "id": "6sShf09oy29S"
      }
    },
    {
      "cell_type": "code",
      "source": [],
      "metadata": {
        "id": "0ovMkhhly0pM"
      },
      "execution_count": null,
      "outputs": []
    }
  ]
}