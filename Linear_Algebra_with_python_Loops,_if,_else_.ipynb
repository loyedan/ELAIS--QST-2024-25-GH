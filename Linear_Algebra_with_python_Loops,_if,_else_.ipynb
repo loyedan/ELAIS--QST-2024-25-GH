{
  "nbformat": 4,
  "nbformat_minor": 0,
  "metadata": {
    "colab": {
      "provenance": [],
      "authorship_tag": "ABX9TyNkbeO9PSN+MnVkSALdkfY+",
      "include_colab_link": true
    },
    "kernelspec": {
      "name": "python3",
      "display_name": "Python 3"
    },
    "language_info": {
      "name": "python"
    }
  },
  "cells": [
    {
      "cell_type": "markdown",
      "metadata": {
        "id": "view-in-github",
        "colab_type": "text"
      },
      "source": [
        "<a href=\"https://colab.research.google.com/github/loyedan/ELAIS--QST-2024-25-GH/blob/main/Linear_Algebra_with_python_Loops%2C_if%2C_else_.ipynb\" target=\"_parent\"><img src=\"https://colab.research.google.com/assets/colab-badge.svg\" alt=\"Open In Colab\"/></a>"
      ]
    },
    {
      "cell_type": "markdown",
      "source": [
        "# ** Linear Algebra with python - Loops, if, else**"
      ],
      "metadata": {
        "id": "Zf0jB9ngyks4"
      }
    },
    {
      "cell_type": "markdown",
      "source": [
        "## **Python Statement syntax**"
      ],
      "metadata": {
        "id": "IBYbOHjty3WM"
      }
    },
    {
      "cell_type": "code",
      "execution_count": 1,
      "metadata": {
        "id": "iegD8NOVuk-0",
        "colab": {
          "base_uri": "https://localhost:8080/"
        },
        "outputId": "9d787258-d93d-4ea7-c4d7-dfa075881c89"
      },
      "outputs": [
        {
          "output_type": "stream",
          "name": "stdout",
          "text": [
            "10 is greater than 5\n",
            "program ended\n"
          ]
        }
      ],
      "source": [
        "# if statement example\n",
        "if 10 > 5:\n",
        "    print(\"10 is greater than 5\")\n",
        "\n",
        "    print(\"program ended\")"
      ]
    },
    {
      "cell_type": "markdown",
      "source": [
        "## **Python if-else statement syntax**"
      ],
      "metadata": {
        "id": "PCDsZNNlzXcJ"
      }
    },
    {
      "cell_type": "code",
      "source": [
        "# if .. else statement example\n",
        "\n",
        "x = 3\n",
        "if x == 4:\n",
        "    print(\"Yes\")\n",
        "else:\n",
        "    print(\"No\")"
      ],
      "metadata": {
        "colab": {
          "base_uri": "https://localhost:8080/"
        },
        "id": "n3PapK8Szqu6",
        "outputId": "6a2dbd2c-bfcc-4b8b-e756-d884fdf714dd"
      },
      "execution_count": 7,
      "outputs": [
        {
          "output_type": "stream",
          "name": "stdout",
          "text": [
            "No\n"
          ]
        }
      ]
    },
    {
      "cell_type": "code",
      "source": [
        "# if .. else statement example\n",
        "\n",
        "x = 3\n",
        "if x == 3:\n",
        "    print(\"Yes\")\n",
        "else:\n",
        "    print(\"No\")"
      ],
      "metadata": {
        "colab": {
          "base_uri": "https://localhost:8080/"
        },
        "id": "LyWjkpBb0-DG",
        "outputId": "f8264ac8-7113-483a-c84e-93f4c6c7b457"
      },
      "execution_count": 6,
      "outputs": [
        {
          "output_type": "stream",
          "name": "stdout",
          "text": [
            "Yes\n"
          ]
        }
      ]
    },
    {
      "cell_type": "markdown",
      "source": [
        "## **Nestsed if..else chain for multiple conditions**"
      ],
      "metadata": {
        "id": "CIjryb1K1GZ8"
      }
    },
    {
      "cell_type": "code",
      "source": [
        "# if.. else chain statement\n",
        "letter = \"A\"\n",
        "\n",
        "if letter == \"B\":\n",
        "    print(\"letter is B\")\n",
        "else:\n",
        "    if letter == \"C\":\n",
        "        print(\"letter is C\")\n",
        "    else:\n",
        "        if letter == \"A\":\n",
        "            print(\"letter is A\")\n",
        "        else:\n",
        "            print(\"letter is not A, B or C\")"
      ],
      "metadata": {
        "colab": {
          "base_uri": "https://localhost:8080/"
        },
        "id": "7CCDMik41ShV",
        "outputId": "6d824748-cea1-497b-f012-d19204c4b2af"
      },
      "execution_count": 8,
      "outputs": [
        {
          "output_type": "stream",
          "name": "stdout",
          "text": [
            "letter is A\n"
          ]
        }
      ]
    },
    {
      "cell_type": "code",
      "source": [],
      "metadata": {
        "id": "WQ-VK2OL2SSX"
      },
      "execution_count": null,
      "outputs": []
    },
    {
      "cell_type": "code",
      "source": [
        "# if.. else chain statement\n",
        "letter = \"C\"\n",
        "\n",
        "if letter == \"B\":\n",
        "    print(\"letter is B\")\n",
        "else:\n",
        "    if letter == \"C\":\n",
        "        print(\"letter is C\")\n",
        "    else:\n",
        "        if letter == \"A\":\n",
        "            print(\"letter is A\")\n",
        "        else:\n",
        "            print(\"letter is not A, B or C\")"
      ],
      "metadata": {
        "colab": {
          "base_uri": "https://localhost:8080/"
        },
        "id": "-NoNFM6U2TLt",
        "outputId": "4fe1d9a4-d8d9-4726-a7c7-386a35948809"
      },
      "execution_count": 9,
      "outputs": [
        {
          "output_type": "stream",
          "name": "stdout",
          "text": [
            "letter is C\n"
          ]
        }
      ]
    },
    {
      "cell_type": "code",
      "source": [],
      "metadata": {
        "id": "H_94FZ7g2aAO"
      },
      "execution_count": null,
      "outputs": []
    },
    {
      "cell_type": "code",
      "source": [
        "# if.. else chain statement\n",
        "letter = \"Z\"\n",
        "\n",
        "if letter == \"B\":\n",
        "    print(\"letter is B\")\n",
        "else:\n",
        "    if letter == \"C\":\n",
        "        print(\"letter is C\")\n",
        "    else:\n",
        "        if letter == \"A\":\n",
        "            print(\"letter is A\")\n",
        "        else:\n",
        "            print(\"letter is not A, B or C\")"
      ],
      "metadata": {
        "id": "X9_6n6nK2dqx"
      },
      "execution_count": null,
      "outputs": []
    },
    {
      "cell_type": "code",
      "source": [],
      "metadata": {
        "id": "W6FwawZU2jsB"
      },
      "execution_count": null,
      "outputs": []
    },
    {
      "cell_type": "code",
      "source": [
        "# if.. else chain statement\n",
        "book = \"Bible\"\n",
        "\n",
        "if book == \"Talmud\":\n",
        "    print(\"The book is Jewish Talmud\")\n",
        "else:\n",
        "    if book == \"Torah\":\n",
        "        print(\"The book is Moses Torah\")\n",
        "    else:\n",
        "        if book == \"Bible\":\n",
        "            print(\"The book is truely the Bible of the Old and New Testamant\")\n",
        "        else:\n",
        "            print(\"book is not Bible, Jewish Talmud or Moses's Torah\")"
      ],
      "metadata": {
        "colab": {
          "base_uri": "https://localhost:8080/"
        },
        "id": "CCtDkXVz2lbP",
        "outputId": "9a6fe96c-c394-4c3e-d5e8-6b378cc512fd"
      },
      "execution_count": 11,
      "outputs": [
        {
          "output_type": "stream",
          "name": "stdout",
          "text": [
            "The book is truely the Bible of the Old and New Testamant\n"
          ]
        }
      ]
    },
    {
      "cell_type": "markdown",
      "source": [
        "## **Nested If Statement**"
      ],
      "metadata": {
        "id": "AvYWhFe33-7v"
      }
    },
    {
      "cell_type": "code",
      "source": [
        "# Nested if statement\n",
        "num = 3\n",
        "\n",
        "if num >= 0:\n",
        "    if num == 0:\n",
        "        print(\"zero\")\n",
        "    else:\n",
        "        print(\"positive number\")\n",
        "else:\n",
        "    print(\"negative number\")"
      ],
      "metadata": {
        "colab": {
          "base_uri": "https://localhost:8080/"
        },
        "id": "ejG1zjk739rH",
        "outputId": "fcfa540c-1da8-401b-fb4d-800c0319e95c"
      },
      "execution_count": 12,
      "outputs": [
        {
          "output_type": "stream",
          "name": "stdout",
          "text": [
            "positive number\n"
          ]
        }
      ]
    },
    {
      "cell_type": "code",
      "source": [
        "x = 5\n",
        "if x > 5:\n",
        "    print(\"x is greater than 5\")\n",
        "\n",
        "if x <= 5:\n",
        "    print(\"x is less than 5\")\n"
      ],
      "metadata": {
        "colab": {
          "base_uri": "https://localhost:8080/"
        },
        "id": "p6S-5_KO5pRx",
        "outputId": "2657b92a-5980-413e-9502-67126dfd9bf3"
      },
      "execution_count": 17,
      "outputs": [
        {
          "output_type": "stream",
          "name": "stdout",
          "text": [
            "x is less than 5\n"
          ]
        }
      ]
    },
    {
      "cell_type": "markdown",
      "source": [
        "## **if-elif statemnent in Python**"
      ],
      "metadata": {
        "id": "B1vQDVKP4c_t"
      }
    },
    {
      "cell_type": "code",
      "source": [
        "x = 10\n",
        "y = 5\n",
        "\n",
        "if x > 5:\n",
        "    if y > 5:\n",
        "      print(\"x and y are greater than 5\")\n",
        "    if y == 5:\n",
        "      print(\"x is greater than 5 and y is equal to 5\")\n",
        "    else:\n",
        "      print(\"x is greater than 5 and y is less than 5\")"
      ],
      "metadata": {
        "colab": {
          "base_uri": "https://localhost:8080/"
        },
        "id": "rsDGthlq964k",
        "outputId": "0c3a6dca-c66b-4d05-d781-c95dcd9ab86a"
      },
      "execution_count": 23,
      "outputs": [
        {
          "output_type": "stream",
          "name": "stdout",
          "text": [
            "x is greater than 5 and y is equal to 5\n"
          ]
        }
      ]
    },
    {
      "cell_type": "markdown",
      "source": [],
      "metadata": {
        "id": "coRgi8EfAHmx"
      }
    },
    {
      "cell_type": "code",
      "source": [
        "x = 10\n",
        "y = 8\n",
        "\n",
        "if x > 5:\n",
        "    if y > 5:\n",
        "      print(\"x and y are greater than 5\")\n",
        "    elif y == 5:\n",
        "      print(\"x is greater than 5 and y is equal to 5\")\n",
        "    else:\n",
        "      print(\"x is greater than 5 and y is less than 5\")"
      ],
      "metadata": {
        "colab": {
          "base_uri": "https://localhost:8080/"
        },
        "id": "3nS1Xr_0AWvO",
        "outputId": "66f21574-98b0-40b8-f9b8-7032291415c0"
      },
      "execution_count": 26,
      "outputs": [
        {
          "output_type": "stream",
          "name": "stdout",
          "text": [
            "x and y are greater than 5\n"
          ]
        }
      ]
    },
    {
      "cell_type": "code",
      "source": [
        "x = 10\n",
        "y = 8\n",
        "\n",
        "if x > 5:\n",
        "    if y > 5:\n",
        "      print(\"x and y are greater than 5\")\n",
        "    elif y == 5:\n",
        "      print(\"x is greater than 5 and y is equal to 5\")\n",
        "    else:\n",
        "      print(\"x is greater than 5 and y is less than 5\")"
      ],
      "metadata": {
        "colab": {
          "base_uri": "https://localhost:8080/"
        },
        "id": "T_tCXiGIAcpP",
        "outputId": "bf9c8bf3-9b01-44ae-8dec-fc85fe0550e8"
      },
      "execution_count": 25,
      "outputs": [
        {
          "output_type": "stream",
          "name": "stdout",
          "text": [
            "x and y are greater than 5\n"
          ]
        }
      ]
    }
  ]
}