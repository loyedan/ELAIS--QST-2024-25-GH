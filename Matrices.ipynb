{
  "nbformat": 4,
  "nbformat_minor": 0,
  "metadata": {
    "colab": {
      "provenance": [],
      "authorship_tag": "ABX9TyOyiTu/ZjyVPt5a2S3IUWWh",
      "include_colab_link": true
    },
    "kernelspec": {
      "name": "python3",
      "display_name": "Python 3"
    },
    "language_info": {
      "name": "python"
    }
  },
  "cells": [
    {
      "cell_type": "markdown",
      "metadata": {
        "id": "view-in-github",
        "colab_type": "text"
      },
      "source": [
        "<a href=\"https://colab.research.google.com/github/loyedan/ELAIS--QST-2024-25-GH/blob/main/Matrices.ipynb\" target=\"_parent\"><img src=\"https://colab.research.google.com/assets/colab-badge.svg\" alt=\"Open In Colab\"/></a>"
      ]
    },
    {
      "cell_type": "markdown",
      "source": [
        "# **Linear Algebra with Python**"
      ],
      "metadata": {
        "id": "f_CEErhyBZA-"
      }
    },
    {
      "cell_type": "markdown",
      "source": [
        "# **Dot Product**"
      ],
      "metadata": {
        "id": "R_kkxfhWsdzk"
      }
    },
    {
      "cell_type": "markdown",
      "source": [
        "# **Exmaple 1**"
      ],
      "metadata": {
        "id": "TOCtOakV0L9a"
      }
    },
    {
      "cell_type": "code",
      "execution_count": 2,
      "metadata": {
        "colab": {
          "base_uri": "https://localhost:8080/"
        },
        "id": "3SpqVI_FsRUd",
        "outputId": "af7ec06d-94a2-46c6-d68f-665ec9c65470"
      },
      "outputs": [
        {
          "output_type": "stream",
          "name": "stdout",
          "text": [
            "pairwise multiplication of the entries with index 0 is 3\n",
            "\n",
            "The dot product of [-3, -2, 0, -1, 4] and [-1, -1, 2, -3, 5] is 3\n",
            "pairwise multiplication of the entries with index 1 is 2\n",
            "\n",
            "The dot product of [-3, -2, 0, -1, 4] and [-1, -1, 2, -3, 5] is 5\n",
            "pairwise multiplication of the entries with index 2 is 0\n",
            "\n",
            "The dot product of [-3, -2, 0, -1, 4] and [-1, -1, 2, -3, 5] is 5\n",
            "pairwise multiplication of the entries with index 3 is 3\n",
            "\n",
            "The dot product of [-3, -2, 0, -1, 4] and [-1, -1, 2, -3, 5] is 8\n",
            "pairwise multiplication of the entries with index 4 is 20\n",
            "\n",
            "The dot product of [-3, -2, 0, -1, 4] and [-1, -1, 2, -3, 5] is 28\n"
          ]
        }
      ],
      "source": [
        "import numpy as np\n",
        "\n",
        "# lets define our vectors\n",
        "u = [-3, -2, 0, -1, 4]\n",
        "v = [-1, -1, 2, -3, 5]\n",
        "\n",
        "uv = 0 # summation is iniitally zero\n",
        "\n",
        "for i in range(len(u)): # iterativelly access every pair with the same indices\n",
        "  print(\"pairwise multiplication of the entries with index\", i, \"is\", u[i]*v[i])\n",
        "  uv = uv + u[i]*v[i] # i-th entries are multiplied and then added to summation\n",
        "\n",
        "  print() # print an empty line\n",
        "  print(\"The dot product of\", u, \"and\", v, \"is\", uv)\n",
        "\n"
      ]
    },
    {
      "cell_type": "markdown",
      "source": [
        "# **Exmaple 2**"
      ],
      "metadata": {
        "id": "m_DOhvlAwxGi"
      }
    },
    {
      "cell_type": "code",
      "source": [
        "# let's find the dot product of a  and b\n",
        "a = [-4, 0]\n",
        "b = [0, -5]\n",
        "result = 0\n",
        "\n",
        "for i in range(2):\n",
        "  result = result + a[i]*b[i]\n",
        "\n",
        "print(\"the dot product of a and b is\", result)"
      ],
      "metadata": {
        "colab": {
          "base_uri": "https://localhost:8080/"
        },
        "id": "RN5TTz4iwwmv",
        "outputId": "9f0598d7-33da-4b32-adc0-41d3244bbd84"
      },
      "execution_count": 3,
      "outputs": [
        {
          "output_type": "stream",
          "name": "stdout",
          "text": [
            "the dot product of a and b is 0\n"
          ]
        }
      ]
    },
    {
      "cell_type": "markdown",
      "source": [
        "# **Exmaple 3**"
      ],
      "metadata": {
        "id": "v5Yb256-xh1g"
      }
    },
    {
      "cell_type": "code",
      "source": [
        "x = [-3, 2, 4, 6, 7, 10, 20]\n",
        "y = [1, 5, -11, -12, 9, 8, 7]\n",
        "\n",
        "dot_prod = 0 # a container\n",
        "\n",
        "for i in range(7):\n",
        "  dot_prod = dot_prod + x[i]*y[i]\n",
        "\n",
        "print(\"the dot product of x and y is\", dot_prod)"
      ],
      "metadata": {
        "colab": {
          "base_uri": "https://localhost:8080/"
        },
        "id": "ozZQr-Tkxlpk",
        "outputId": "a37e4f4e-715c-4619-f2df-7bdc0086983e"
      },
      "execution_count": 5,
      "outputs": [
        {
          "output_type": "stream",
          "name": "stdout",
          "text": [
            "the dot product of x and y is 174\n"
          ]
        }
      ]
    },
    {
      "cell_type": "markdown",
      "source": [
        "x = [1, 2]\n",
        "x1 = np.array([1], [2]) # matrices\n",
        "print(x)\n",
        "print(x1)\n",
        "\n",
        "x.dtype\n",
        "x1.shape"
      ],
      "metadata": {
        "id": "GqJ9QJhi0H7_"
      }
    },
    {
      "cell_type": "markdown",
      "source": [
        "# **Eigenvalues and Eigenvectors**"
      ],
      "metadata": {
        "id": "nS2D64Rm1AF1"
      }
    },
    {
      "cell_type": "markdown",
      "source": [
        "# **Example 1**"
      ],
      "metadata": {
        "id": "z7PkR9E24cYl"
      }
    },
    {
      "cell_type": "code",
      "source": [
        "import numpy as np\n",
        "A = np.array([[1, 6],\n",
        "             [5, 3]])\n",
        "\n",
        "# finding eigenvalues and eigenvectors\n",
        "vals, vecs, = np.linalg.eig(A)\n",
        "print(\"The eigenvalues of A are\", vals)\n",
        "\n",
        "print(\"The eigenvectors of A are\", vecs) # the whole of the eigenvectors\n",
        "print(vecs[:, 0]) # print my first column\n",
        "print(vecs[:, 1]) # print the second column"
      ],
      "metadata": {
        "colab": {
          "base_uri": "https://localhost:8080/"
        },
        "id": "W4Q_itcg1FT2",
        "outputId": "192cbd3b-2f76-4979-f5c7-e092951f025d"
      },
      "execution_count": 11,
      "outputs": [
        {
          "output_type": "stream",
          "name": "stdout",
          "text": [
            "The eigenvalues of A are [-3.56776436  7.56776436]\n",
            "The eigenvectors of A are [[-0.7956659  -0.67447444]\n",
            " [ 0.60573573 -0.7382982 ]]\n",
            "[-0.7956659   0.60573573]\n",
            "[-0.67447444 -0.7382982 ]\n"
          ]
        }
      ]
    },
    {
      "cell_type": "markdown",
      "source": [
        "# **Example 2**"
      ],
      "metadata": {
        "id": "ePW3uspR4ZVK"
      }
    },
    {
      "cell_type": "code",
      "source": [
        "B = np.array([[1, 2],\n",
        "              [4, 5]])\n",
        "\n",
        "vals, vecs = np.linalg.eig(B)\n",
        "print(\"The eigenvalues of B are\", vals)\n",
        "print(\"The eigenvectors of B are\", vecs)"
      ],
      "metadata": {
        "colab": {
          "base_uri": "https://localhost:8080/"
        },
        "id": "-wkOg9HC3rqy",
        "outputId": "f80c371e-58c1-4e5b-a328-69fd2ab9701c"
      },
      "execution_count": 13,
      "outputs": [
        {
          "output_type": "stream",
          "name": "stdout",
          "text": [
            "The eigenvalues of B are [-0.46410162  6.46410162]\n",
            "The eigenvectors of B are [[-0.80689822 -0.34372377]\n",
            " [ 0.59069049 -0.9390708 ]]\n"
          ]
        }
      ]
    },
    {
      "cell_type": "markdown",
      "source": [
        "## **Linear Operators**"
      ],
      "metadata": {
        "id": "TPA2b6IP4mIR"
      }
    },
    {
      "cell_type": "markdown",
      "source": [
        "# **Example 1**"
      ],
      "metadata": {
        "id": "I_Ze6jzl4ub1"
      }
    },
    {
      "cell_type": "code",
      "source": [
        "\"\"\"\n",
        "from math import cos, sin, pi\n",
        "import numpy as np\n",
        "\n",
        "def\n",
        "\"\"\""
      ],
      "metadata": {
        "colab": {
          "base_uri": "https://localhost:8080/",
          "height": 35
        },
        "id": "k-9c1K7P4ljL",
        "outputId": "aafdce49-658f-47c3-8774-9f13dcee12a0"
      },
      "execution_count": 18,
      "outputs": [
        {
          "output_type": "execute_result",
          "data": {
            "text/plain": [
              "'\\nfrom math import cos, sin, pi\\nimport numpy as np\\n\\ndef\\n'"
            ],
            "application/vnd.google.colaboratory.intrinsic+json": {
              "type": "string"
            }
          },
          "metadata": {},
          "execution_count": 18
        }
      ]
    },
    {
      "source": [
        "\"\"\"\n",
        "This is\n",
        "a multiline\n",
        "comment\n",
        "\"\"\""
      ],
      "cell_type": "code",
      "metadata": {
        "colab": {
          "base_uri": "https://localhost:8080/",
          "height": 35
        },
        "id": "Cl5TIh0E6zYS",
        "outputId": "95ddc339-3e99-471e-89da-92a0bbd10110"
      },
      "execution_count": 15,
      "outputs": [
        {
          "output_type": "execute_result",
          "data": {
            "text/plain": [
              "'\\nThis is\\na multiline\\ncomment\\n'"
            ],
            "application/vnd.google.colaboratory.intrinsic+json": {
              "type": "string"
            }
          },
          "metadata": {},
          "execution_count": 15
        }
      ]
    },
    {
      "source": [
        "# This is\n",
        "# a multiline\n",
        "# comment"
      ],
      "cell_type": "code",
      "metadata": {
        "id": "YhGbCFcH60Na"
      },
      "execution_count": 14,
      "outputs": []
    },
    {
      "cell_type": "markdown",
      "source": [
        "# *Teach Python fuctions then continue from opeerators*"
      ],
      "metadata": {
        "id": "V-hCdToG5tI5"
      }
    },
    {
      "cell_type": "markdown",
      "source": [
        "# **Tensor Product**"
      ],
      "metadata": {
        "id": "XUPostRZ57LY"
      }
    },
    {
      "cell_type": "markdown",
      "source": [
        "# **Example 1**"
      ],
      "metadata": {
        "id": "hvxDf4JQ-A7r"
      }
    },
    {
      "cell_type": "code",
      "source": [
        "import numpy as np\n",
        "\n",
        "# Define two complex vectors u and v\n",
        "u = np.array([1+2j, 3 -1j])\n",
        "u = np.array([2 -1j, 4 +3j])\n",
        "\n",
        "# Compute the dot product using conjugate transpose for u\n",
        "dot_product = np.vdot(u, v) # vdot takes the conjugate transpose of the first argument\n",
        "\n",
        "# Compute the element-wise product\n",
        "element_wise_product = np.multiply(u, v)\n",
        "\n",
        "print(\"Dot Product:\", dot_product)"
      ],
      "metadata": {
        "colab": {
          "base_uri": "https://localhost:8080/",
          "height": 211
        },
        "collapsed": true,
        "id": "fdg5nXj98CEM",
        "outputId": "f0248090-9cc3-4c11-b549-354860a5d9d9"
      },
      "execution_count": 19,
      "outputs": [
        {
          "output_type": "error",
          "ename": "ValueError",
          "evalue": "cannot reshape array of size 5 into shape (2,)",
          "traceback": [
            "\u001b[0;31m---------------------------------------------------------------------------\u001b[0m",
            "\u001b[0;31mValueError\u001b[0m                                Traceback (most recent call last)",
            "\u001b[0;32m<ipython-input-19-2bf3bcf000d3>\u001b[0m in \u001b[0;36m<cell line: 8>\u001b[0;34m()\u001b[0m\n\u001b[1;32m      6\u001b[0m \u001b[0;34m\u001b[0m\u001b[0m\n\u001b[1;32m      7\u001b[0m \u001b[0;31m# Compute the dot product using conjugate transpose for u\u001b[0m\u001b[0;34m\u001b[0m\u001b[0;34m\u001b[0m\u001b[0m\n\u001b[0;32m----> 8\u001b[0;31m \u001b[0mdot_product\u001b[0m \u001b[0;34m=\u001b[0m \u001b[0mnp\u001b[0m\u001b[0;34m.\u001b[0m\u001b[0mvdot\u001b[0m\u001b[0;34m(\u001b[0m\u001b[0mu\u001b[0m\u001b[0;34m,\u001b[0m \u001b[0mv\u001b[0m\u001b[0;34m)\u001b[0m \u001b[0;31m# vdot takes the conjugate transpose of the first argument\u001b[0m\u001b[0;34m\u001b[0m\u001b[0;34m\u001b[0m\u001b[0m\n\u001b[0m\u001b[1;32m      9\u001b[0m \u001b[0;34m\u001b[0m\u001b[0m\n\u001b[1;32m     10\u001b[0m \u001b[0;31m# Compute the element-wise product\u001b[0m\u001b[0;34m\u001b[0m\u001b[0;34m\u001b[0m\u001b[0m\n",
            "\u001b[0;31mValueError\u001b[0m: cannot reshape array of size 5 into shape (2,)"
          ]
        }
      ]
    },
    {
      "cell_type": "markdown",
      "source": [
        "# **Example 2**"
      ],
      "metadata": {
        "id": "J_MK4lNC99Qm"
      }
    },
    {
      "cell_type": "code",
      "source": [
        "import numpy as np\n",
        "A = np.array([[1, 0], [0, 1]])\n",
        "\n",
        "print(A)\n",
        "\n",
        "B = np.array([[1, 3], [4, 2]])\n",
        "\n",
        "print(B)\n",
        "\n",
        "np.kron(A, B) # Performs a tensor product on A and B"
      ],
      "metadata": {
        "colab": {
          "base_uri": "https://localhost:8080/"
        },
        "id": "TB87AWCK989C",
        "outputId": "630bc13c-ec8b-42d2-84f3-c637fc38d78d"
      },
      "execution_count": 20,
      "outputs": [
        {
          "output_type": "stream",
          "name": "stdout",
          "text": [
            "[[1 0]\n",
            " [0 1]]\n",
            "[[1 3]\n",
            " [4 2]]\n"
          ]
        },
        {
          "output_type": "execute_result",
          "data": {
            "text/plain": [
              "array([[1, 3, 0, 0],\n",
              "       [4, 2, 0, 0],\n",
              "       [0, 0, 1, 3],\n",
              "       [0, 0, 4, 2]])"
            ]
          },
          "metadata": {},
          "execution_count": 20
        }
      ]
    },
    {
      "cell_type": "markdown",
      "source": [
        "# **Example 3**"
      ],
      "metadata": {
        "id": "sAXP8DJ0_6da"
      }
    },
    {
      "cell_type": "code",
      "source": [
        "v = [1, 2, 3]\n",
        "u = [-2, 3]\n",
        "\n",
        "vu = []\n",
        "\n",
        "for i in range(len(v)): # each element of v will be replaced\n",
        "  for j in range(len(u)): # the vector of u will come here after multiplying with the entry there\n",
        "    vu.append(v[i]*u[j])\n",
        "\n",
        "print(\"v =\", v)\n",
        "print(\"u =\", u)\n",
        "print(\"vu =\", vu)"
      ],
      "metadata": {
        "colab": {
          "base_uri": "https://localhost:8080/"
        },
        "id": "SI5MSm4g_5qc",
        "outputId": "12770cc1-6041-4d4c-d6de-548b64257f0a"
      },
      "execution_count": 22,
      "outputs": [
        {
          "output_type": "stream",
          "name": "stdout",
          "text": [
            "v = [1, 2, 3]\n",
            "u = [-2, 3]\n",
            "vu = [-2, 3, -4, 6, -6, 9]\n"
          ]
        }
      ]
    }
  ]
}