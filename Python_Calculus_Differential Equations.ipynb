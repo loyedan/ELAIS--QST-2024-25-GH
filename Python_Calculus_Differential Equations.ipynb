{
  "nbformat": 4,
  "nbformat_minor": 0,
  "metadata": {
    "colab": {
      "provenance": [],
      "authorship_tag": "ABX9TyPeeB2zqHKqOE7VwJnHgou1",
      "include_colab_link": true
    },
    "kernelspec": {
      "name": "python3",
      "display_name": "Python 3"
    },
    "language_info": {
      "name": "python"
    }
  },
  "cells": [
    {
      "cell_type": "markdown",
      "metadata": {
        "id": "view-in-github",
        "colab_type": "text"
      },
      "source": [
        "<a href=\"https://colab.research.google.com/github/loyedan/ELAIS--QST-2024-25-GH/blob/main/Python_Calculus_Differential%C2%A0Equations.ipynb\" target=\"_parent\"><img src=\"https://colab.research.google.com/assets/colab-badge.svg\" alt=\"Open In Colab\"/></a>"
      ]
    },
    {
      "cell_type": "markdown",
      "source": [
        "# **Python: Calculus - Differential Equations**"
      ],
      "metadata": {
        "id": "mIb7Nhg8lhDy"
      }
    },
    {
      "cell_type": "code",
      "execution_count": 1,
      "metadata": {
        "colab": {
          "base_uri": "https://localhost:8080/"
        },
        "id": "RT-DM-pqkk8L",
        "outputId": "ccda12b3-c40e-4c14-877c-129c2196cdd6"
      },
      "outputs": [
        {
          "output_type": "stream",
          "name": "stdout",
          "text": [
            "Requirement already satisfied: sympy in /usr/local/lib/python3.10/dist-packages (1.13.3)\n",
            "Requirement already satisfied: mpmath<1.4,>=1.1.0 in /usr/local/lib/python3.10/dist-packages (from sympy) (1.3.0)\n"
          ]
        }
      ],
      "source": [
        "pip install sympy"
      ]
    },
    {
      "cell_type": "markdown",
      "source": [
        "## **Algebra**"
      ],
      "metadata": {
        "id": "4pkZ7ly7yaN6"
      }
    },
    {
      "cell_type": "markdown",
      "source": [
        "### **Example 1**"
      ],
      "metadata": {
        "id": "KWCmkX7zudL2"
      }
    },
    {
      "source": [
        "# Make sure to import sympy\n",
        "import sympy\n",
        "\n",
        "# creating a syntax of x\n",
        "x = sympy.S(\"x\")\n",
        "eq1 = x**2 + 2*x - 8\n",
        "print(eq1)"
      ],
      "cell_type": "code",
      "metadata": {
        "colab": {
          "base_uri": "https://localhost:8080/"
        },
        "id": "p7og_xydznMm",
        "outputId": "c0d05340-ad15-4c40-c914-a046958481b0"
      },
      "execution_count": 3,
      "outputs": [
        {
          "output_type": "stream",
          "name": "stdout",
          "text": [
            "x**2 + 2*x - 8\n"
          ]
        }
      ]
    },
    {
      "source": [
        "import sympy\n",
        "\n",
        "# creating a syntax of x\n",
        "x = sympy.S(\"x\")\n",
        "eq1 = x**2 + 2*x - 8\n",
        "\n",
        "# Factorize the equation\n",
        "factored_eq1 = sympy.factor(eq1)\n",
        "\n",
        "print(factored_eq1)"
      ],
      "cell_type": "code",
      "metadata": {
        "colab": {
          "base_uri": "https://localhost:8080/"
        },
        "id": "PJlXfFwSzxik",
        "outputId": "dc18d88d-17c5-4b22-d492-7dfb489875f7"
      },
      "execution_count": 4,
      "outputs": [
        {
          "output_type": "stream",
          "name": "stdout",
          "text": [
            "(x - 2)*(x + 4)\n"
          ]
        }
      ]
    },
    {
      "cell_type": "markdown",
      "source": [
        "## **How to expand an equation**"
      ],
      "metadata": {
        "id": "HsJiY97O1Ewg"
      }
    },
    {
      "cell_type": "markdown",
      "source": [
        "**Example 2**"
      ],
      "metadata": {
        "id": "7s76CsvE1Jxq"
      }
    },
    {
      "cell_type": "code",
      "source": [
        "eq2 = (x - 2)*(x + 4)\n",
        "sympy.expand(eq2)"
      ],
      "metadata": {
        "colab": {
          "base_uri": "https://localhost:8080/",
          "height": 39
        },
        "id": "MC4baGOl1D88",
        "outputId": "ee83b0a1-f3cd-474b-97b9-eb0ad231e970"
      },
      "execution_count": 5,
      "outputs": [
        {
          "output_type": "execute_result",
          "data": {
            "text/plain": [
              "x**2 + 2*x - 8"
            ],
            "text/latex": "$\\displaystyle x^{2} + 2 x - 8$"
          },
          "metadata": {},
          "execution_count": 5
        }
      ]
    },
    {
      "cell_type": "markdown",
      "source": [
        "## **How to simplify an expression**"
      ],
      "metadata": {
        "id": "OCFAr8h41fRO"
      }
    },
    {
      "cell_type": "code",
      "source": [
        "eq3 = (x + 2)*(x + 4)\n",
        "sympy.simplify(eq3)"
      ],
      "metadata": {
        "colab": {
          "base_uri": "https://localhost:8080/",
          "height": 17
        },
        "id": "LiUVNIXW1kNH",
        "outputId": "37571a05-c8db-43be-d153-389d083b14cd"
      },
      "execution_count": 6,
      "outputs": [
        {
          "output_type": "execute_result",
          "data": {
            "text/plain": [
              "(x + 2)*(x + 4)"
            ],
            "text/latex": "$\\displaystyle \\left(x + 2\\right) \\left(x + 4\\right)$"
          },
          "metadata": {},
          "execution_count": 6
        }
      ]
    },
    {
      "cell_type": "markdown",
      "source": [
        "## **How to solve a quadratic equation**"
      ],
      "metadata": {
        "id": "1LbrV6RV34qW"
      }
    },
    {
      "cell_type": "code",
      "source": [
        "#creating symbolic values of a,b and c\n",
        "\n",
        "a = sympy.Symbol(\"a\")\n",
        "b = sympy.Symbol(\"b\")\n",
        "c = sympy.Symbol(\"c\")\n",
        "\n",
        "# creating a quadratic equation\n",
        "quadratic = a*x**2 + b*x + c\n",
        "print(quadratic, x)\n",
        "\n",
        "#Solving quadratic Equation\n",
        "sympy.solveset(quadratic, x)"
      ],
      "metadata": {
        "colab": {
          "base_uri": "https://localhost:8080/",
          "height": 86
        },
        "id": "pfWdbqb94BbF",
        "outputId": "592fe403-f8ce-4a1f-b284-1ea7aa4bb4bf"
      },
      "execution_count": 9,
      "outputs": [
        {
          "output_type": "stream",
          "name": "stdout",
          "text": [
            "a*x**2 + b*x + c x\n"
          ]
        },
        {
          "output_type": "execute_result",
          "data": {
            "text/plain": [
              "{-b/(2*a) - sqrt(-4*a*c + b**2)/(2*a), -b/(2*a) + sqrt(-4*a*c + b**2)/(2*a)}"
            ],
            "text/latex": "$\\displaystyle \\left\\{- \\frac{b}{2 a} - \\frac{\\sqrt{- 4 a c + b^{2}}}{2 a}, - \\frac{b}{2 a} + \\frac{\\sqrt{- 4 a c + b^{2}}}{2 a}\\right\\}$"
          },
          "metadata": {},
          "execution_count": 9
        }
      ]
    },
    {
      "cell_type": "code",
      "source": [],
      "metadata": {
        "id": "RyCnA0d_6KvJ"
      },
      "execution_count": null,
      "outputs": []
    },
    {
      "cell_type": "code",
      "source": [
        "#creating symbolic values of a,b and c\n",
        "\n",
        "a = sympy.Symbol(\"a\")\n",
        "b = sympy.Symbol(\"b\")\n",
        "c = sympy.Symbol(\"c\")\n",
        "\n",
        "# creating a quadratic equation\n",
        "eq4 = a*x**2 + b*x + c\n",
        "print(quadratic, x)\n",
        "\n",
        "#Solving quadratic Equation\n",
        "sympy.solveset(eq4, b)"
      ],
      "metadata": {
        "outputId": "dc2924ad-57a2-406d-86c6-aa5945c29e47",
        "colab": {
          "base_uri": "https://localhost:8080/",
          "height": 76
        },
        "id": "K70zW7AD6LCA"
      },
      "execution_count": 12,
      "outputs": [
        {
          "output_type": "stream",
          "name": "stdout",
          "text": [
            "a*x**2 + b*x + c x\n"
          ]
        },
        {
          "output_type": "execute_result",
          "data": {
            "text/plain": [
              "{-(a*x**2 + c)/x}"
            ],
            "text/latex": "$\\displaystyle \\left\\{- \\frac{a x^{2} + c}{x}\\right\\}$"
          },
          "metadata": {},
          "execution_count": 12
        }
      ]
    },
    {
      "cell_type": "markdown",
      "source": [],
      "metadata": {
        "id": "kGB43LCg8JMy"
      }
    }
  ]
}