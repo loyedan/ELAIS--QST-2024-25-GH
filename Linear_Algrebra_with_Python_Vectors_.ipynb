{
  "nbformat": 4,
  "nbformat_minor": 0,
  "metadata": {
    "colab": {
      "provenance": [],
      "toc_visible": true,
      "authorship_tag": "ABX9TyN0c5CigFB+Qkkk/dVvFOHX",
      "include_colab_link": true
    },
    "kernelspec": {
      "name": "python3",
      "display_name": "Python 3"
    },
    "language_info": {
      "name": "python"
    }
  },
  "cells": [
    {
      "cell_type": "markdown",
      "metadata": {
        "id": "view-in-github",
        "colab_type": "text"
      },
      "source": [
        "<a href=\"https://colab.research.google.com/github/loyedan/ELAIS--QST-2024-25-GH/blob/main/Linear_Algrebra_with_Python_Vectors_.ipynb\" target=\"_parent\"><img src=\"https://colab.research.google.com/assets/colab-badge.svg\" alt=\"Open In Colab\"/></a>"
      ]
    },
    {
      "cell_type": "markdown",
      "source": [
        "# **Linear Algrebra with Python - Vectors**"
      ],
      "metadata": {
        "id": "pEjNAsRnEyAj"
      }
    },
    {
      "cell_type": "markdown",
      "source": [
        "### **Vectors**"
      ],
      "metadata": {
        "id": "7t1PVQACFDDC"
      }
    },
    {
      "cell_type": "markdown",
      "source": [
        "Hilbert Space"
      ],
      "metadata": {
        "id": "j-c4iN2NFKzj"
      }
    },
    {
      "cell_type": "code",
      "source": [
        "import numpy as np\n",
        "\n",
        "lt1 = [1, 2, 3]\n",
        "lt2 = [4, 5, 6]\n",
        "\n",
        "vec1 = np.array(lt1)\n",
        "vec2 = np.array(lt2)\n",
        "\n",
        "print(lt1)\n",
        "print(type)(lt1)\n",
        "print(vec1)\n",
        "print(type)(vec1)"
      ],
      "metadata": {
        "colab": {
          "base_uri": "https://localhost:8080/",
          "height": 252
        },
        "id": "hx49VUl_OOl-",
        "outputId": "7db4b3bf-05a2-4994-df30-367d47a308aa"
      },
      "execution_count": null,
      "outputs": [
        {
          "output_type": "stream",
          "name": "stdout",
          "text": [
            "[1, 2, 3]\n",
            "<class 'type'>\n"
          ]
        },
        {
          "output_type": "error",
          "ename": "TypeError",
          "evalue": "'NoneType' object is not callable",
          "traceback": [
            "\u001b[0;31m---------------------------------------------------------------------------\u001b[0m",
            "\u001b[0;31mTypeError\u001b[0m                                 Traceback (most recent call last)",
            "\u001b[0;32m<ipython-input-1-6fca2a38f923>\u001b[0m in \u001b[0;36m<cell line: 10>\u001b[0;34m()\u001b[0m\n\u001b[1;32m      8\u001b[0m \u001b[0;34m\u001b[0m\u001b[0m\n\u001b[1;32m      9\u001b[0m \u001b[0mprint\u001b[0m\u001b[0;34m(\u001b[0m\u001b[0mlt1\u001b[0m\u001b[0;34m)\u001b[0m\u001b[0;34m\u001b[0m\u001b[0;34m\u001b[0m\u001b[0m\n\u001b[0;32m---> 10\u001b[0;31m \u001b[0mprint\u001b[0m\u001b[0;34m(\u001b[0m\u001b[0mtype\u001b[0m\u001b[0;34m)\u001b[0m\u001b[0;34m(\u001b[0m\u001b[0mlt1\u001b[0m\u001b[0;34m)\u001b[0m\u001b[0;34m\u001b[0m\u001b[0;34m\u001b[0m\u001b[0m\n\u001b[0m\u001b[1;32m     11\u001b[0m \u001b[0mprint\u001b[0m\u001b[0;34m(\u001b[0m\u001b[0mvec1\u001b[0m\u001b[0;34m)\u001b[0m\u001b[0;34m\u001b[0m\u001b[0;34m\u001b[0m\u001b[0m\n\u001b[1;32m     12\u001b[0m \u001b[0mprint\u001b[0m\u001b[0;34m(\u001b[0m\u001b[0mtype\u001b[0m\u001b[0;34m)\u001b[0m\u001b[0;34m(\u001b[0m\u001b[0mvec1\u001b[0m\u001b[0;34m)\u001b[0m\u001b[0;34m\u001b[0m\u001b[0;34m\u001b[0m\u001b[0m\n",
            "\u001b[0;31mTypeError\u001b[0m: 'NoneType' object is not callable"
          ]
        }
      ]
    },
    {
      "source": [
        "import numpy as np\n",
        "\n",
        "\n",
        "def lt_vec_add(lt1, lt2):\n",
        "    lt_add = []\n",
        "    lt_add] = [lt1[i] + lt2[i] for i in range(len(lt1)) #list comprehension\n",
        "    return lt_add\n",
        "\n",
        "\n",
        "lt1 = [1, 2, 3]\n",
        "lt2 = [4, 5, 6]\n",
        "\n",
        "vec1 = np.array(lt1)\n",
        "vec2 = np.array(lt2)\n",
        "\n",
        "print(lt1)\n",
        "print(type(lt1)) # removed extraneous parenthesis after type\n",
        "print(vec1)\n",
        "print(type(vec1))"
      ],
      "cell_type": "code",
      "metadata": {
        "colab": {
          "base_uri": "https://localhost:8080/"
        },
        "id": "E0oFi-czQ_3P",
        "outputId": "abbbade0-36e8-43c0-fc6d-eea4334398e8"
      },
      "execution_count": null,
      "outputs": [
        {
          "output_type": "stream",
          "name": "stdout",
          "text": [
            "[1, 2, 3]\n",
            "<class 'list'>\n",
            "[1 2 3]\n",
            "<class 'numpy.ndarray'>\n"
          ]
        }
      ]
    },
    {
      "cell_type": "markdown",
      "source": [
        "An array is a data structure that stores a collection of elements of the same data type. You can access these elements using their index.\n",
        "\n",
        "In your code, vec1 and vec2 are arrays created from lists using np.array()."
      ],
      "metadata": {
        "id": "f2mVn2UkQY9Q"
      }
    },
    {
      "cell_type": "code",
      "source": [
        "vec_add = vec1 + vec2\n",
        "lt_add = lt1 + lt2\n",
        "lt_vec_add1 = lt_vec_add(lt1, lt2)\n",
        "print(vec_add)\n",
        "lt_add = lt1 + lt2\n",
        "print(\"vector addition is: \" + str(vec_add))\n",
        "print(\"list addition is: \" + str(lt_add))\n",
        "\n",
        "vec_sub = vec1 - vec2\n",
        "print(\"vector subtraction is: \" + str(vec_sub))\n",
        "\n",
        "vec_mult = vec1 * vec2\n",
        "print(\"vector multiplication is: \" + str(vec_mult))\n",
        "\n",
        "vec_div = vec1 / vec2\n",
        "print(\"vector division is: \" + str(vec_div))"
      ],
      "metadata": {
        "colab": {
          "base_uri": "https://localhost:8080/",
          "height": 217
        },
        "id": "e7fQJYDDRZfB",
        "outputId": "780d3a4b-53ee-419c-fc27-ad0a0d975eab"
      },
      "execution_count": null,
      "outputs": [
        {
          "output_type": "error",
          "ename": "NameError",
          "evalue": "name 'lt_vec_add' is not defined",
          "traceback": [
            "\u001b[0;31m---------------------------------------------------------------------------\u001b[0m",
            "\u001b[0;31mNameError\u001b[0m                                 Traceback (most recent call last)",
            "\u001b[0;32m<ipython-input-4-cee608fd1cef>\u001b[0m in \u001b[0;36m<cell line: 3>\u001b[0;34m()\u001b[0m\n\u001b[1;32m      1\u001b[0m \u001b[0mvec_add\u001b[0m \u001b[0;34m=\u001b[0m \u001b[0mvec1\u001b[0m \u001b[0;34m+\u001b[0m \u001b[0mvec2\u001b[0m\u001b[0;34m\u001b[0m\u001b[0;34m\u001b[0m\u001b[0m\n\u001b[1;32m      2\u001b[0m \u001b[0mlt_add\u001b[0m \u001b[0;34m=\u001b[0m \u001b[0mlt1\u001b[0m \u001b[0;34m+\u001b[0m \u001b[0mlt2\u001b[0m\u001b[0;34m\u001b[0m\u001b[0;34m\u001b[0m\u001b[0m\n\u001b[0;32m----> 3\u001b[0;31m \u001b[0mlt_vec_add1\u001b[0m \u001b[0;34m=\u001b[0m \u001b[0mlt_vec_add\u001b[0m\u001b[0;34m(\u001b[0m\u001b[0mlt1\u001b[0m\u001b[0;34m,\u001b[0m \u001b[0mlt2\u001b[0m\u001b[0;34m)\u001b[0m\u001b[0;34m\u001b[0m\u001b[0;34m\u001b[0m\u001b[0m\n\u001b[0m\u001b[1;32m      4\u001b[0m \u001b[0mprint\u001b[0m\u001b[0;34m(\u001b[0m\u001b[0mvec_add\u001b[0m\u001b[0;34m)\u001b[0m\u001b[0;34m\u001b[0m\u001b[0;34m\u001b[0m\u001b[0m\n\u001b[1;32m      5\u001b[0m \u001b[0mlt_add\u001b[0m \u001b[0;34m=\u001b[0m \u001b[0mlt1\u001b[0m \u001b[0;34m+\u001b[0m \u001b[0mlt2\u001b[0m\u001b[0;34m\u001b[0m\u001b[0;34m\u001b[0m\u001b[0m\n",
            "\u001b[0;31mNameError\u001b[0m: name 'lt_vec_add' is not defined"
          ]
        }
      ]
    },
    {
      "source": [
        "import numpy as np\n",
        "from sympy import symbols, Matrix\n",
        "\n",
        "x1, x2, x3\n",
        "\n",
        "def lt_vec_add(lt1, lt2):\n",
        "    lt_add = []\n",
        "    lt_add = [lt1[i] + lt2[i] for i in range(len(lt1))] #list comprehension\n",
        "    return lt_add\n",
        "\n",
        "\n",
        "lt1 = [1, 2, 3]\n",
        "lt2 = [4, 5, 6]\n",
        "\n",
        "vec1 = np.array(lt1)\n",
        "vec2 = np.array(lt2)\n",
        "\n",
        "print(lt1)\n",
        "print(type(lt1)) # removed extraneous parenthesis after type\n",
        "print(vec1)\n",
        "print(type(vec1))\n",
        "\n",
        "vec_add = vec1 + vec2\n",
        "lt_add = lt1 + lt2\n",
        "lt_vec_add1 = lt_vec_add(lt1, lt2) # This will now work if the cell above is executed first.\n",
        "print(vec_add)\n",
        "lt_add = lt1 + lt2\n",
        "print(\"vector addition is: \" + str(vec_add))\n",
        "print(\"list addition is: \" + str(lt_add))\n",
        "\n",
        "vec_sub = vec1 - vec2\n",
        "print(\"vector subtraction is: \" + str(vec_sub))\n",
        "\n",
        "vec_mult = vec1 * vec2\n",
        "print(\"vector multiplication is: \" + str(vec_mult))\n",
        "\n",
        "vec_div = vec1 / vec2\n",
        "print(\"vector division is: \" + str(vec_div))\n",
        "\n",
        "vec_dot_pro = vec1.dot(vec2)\n",
        "vec_cross = np.cross(vec1, vec2)\n",
        "print(\"vector dot product is : \" + str(vec_dot_pro))\n",
        "print(\"vector cross product is : \" + str(vec_cross))\n"
      ],
      "cell_type": "code",
      "metadata": {
        "colab": {
          "base_uri": "https://localhost:8080/"
        },
        "id": "ixq-PancUjCJ",
        "outputId": "76327397-2a13-4442-a48e-95be451d8eee"
      },
      "execution_count": null,
      "outputs": [
        {
          "output_type": "stream",
          "name": "stdout",
          "text": [
            "[1, 2, 3]\n",
            "<class 'list'>\n",
            "[1 2 3]\n",
            "<class 'numpy.ndarray'>\n",
            "[5 7 9]\n",
            "vector addition is: [5 7 9]\n",
            "list addition is: [1, 2, 3, 4, 5, 6]\n",
            "vector subtraction is: [-3 -3 -3]\n",
            "vector multiplication is: [ 4 10 18]\n",
            "vector division is: [0.25 0.4  0.5 ]\n",
            "vector dot product is : 32\n",
            "vector cross product is : [-3  6 -3]\n"
          ]
        }
      ]
    },
    {
      "cell_type": "code",
      "source": [
        "import numpy as np\n",
        "from sympy import symbols, Matrix\n",
        "\n",
        "x1, x2, y1, y2, z1, z2 = symbols('x1 x2 y1 y2 z1 z2')\n",
        "\n",
        "def lt_vec_add(lt1, lt2):\n",
        "    lt_add = []\n",
        "    lt_add = [lt1[i] + lt2[i] for i in range(len(lt1))] #list comprehension\n",
        "    return lt_add\n",
        "\n",
        "\n",
        "lt1 = [1+2j, 2, 3]\n",
        "lt2 = [4, 5, 6]\n",
        "slt1 = [x1, y1, z1]\n",
        "slt2 = [x2, y2, z2]\n",
        "vec1 = np.array(lt1)\n",
        "vec2 = np.array(lt2)\n",
        "svec1 =\n",
        "\n",
        "print(lt1)\n",
        "print(slt1)\n",
        "# print(type(lt1)) # removed extraneous parenthesis after type\n",
        "print(vec1)\n",
        "print(svec1)\n",
        "# print(type(vec1))\n",
        "\n",
        "\n",
        "vec_add = vec1 + vec2\n",
        "lt_add = lt1 + lt2\n",
        "lt_vec_add1 = lt_vec_add(lt1, lt2) # This will now work if the cell above is executed first.\n",
        "print(vec_add)\n",
        "lt_add = lt1 + lt2\n",
        "print(\"vector addition is: \" + str(vec_add))\n",
        "print(\"list addition is: \" + str(lt_add))\n",
        "\n",
        "\n",
        "'''\n",
        "vec_sub = vec1 - vec2\n",
        "print(\"vector subtraction is: \" + str(vec_sub))\n",
        "\n",
        "vec_mult = vec1 * vec2\n",
        "print(\"vector multiplication is: \" + str(vec_mult))\n",
        "\n",
        "vec_div = vec1 / vec2\n",
        "print(\"vector division is: \" + str(vec_div))\n",
        "\n",
        "vec_dot_pro = vec1.dot(vec2)\n",
        "vec_cross = np.cross(vec1, vec2)\n",
        "print(\"vector dot product is : \" + str(vec_dot_pro))\n",
        "print(\"vector cross product is : \" + str(vec_cross))\n",
        "'''"
      ],
      "metadata": {
        "colab": {
          "base_uri": "https://localhost:8080/",
          "height": 270
        },
        "id": "_bq86CJdXGuh",
        "outputId": "28910f7d-5d92-4207-a40a-a432cd5fc739"
      },
      "execution_count": null,
      "outputs": [
        {
          "output_type": "stream",
          "name": "stdout",
          "text": [
            "[(1+2j), 2, 3]\n",
            "[x1, y1, z1]\n",
            "[1.+2.j 2.+0.j 3.+0.j]\n"
          ]
        },
        {
          "output_type": "error",
          "ename": "NameError",
          "evalue": "name 'svec1' is not defined",
          "traceback": [
            "\u001b[0;31m---------------------------------------------------------------------------\u001b[0m",
            "\u001b[0;31mNameError\u001b[0m                                 Traceback (most recent call last)",
            "\u001b[0;32m<ipython-input-8-847ffa1196b5>\u001b[0m in \u001b[0;36m<cell line: 23>\u001b[0;34m()\u001b[0m\n\u001b[1;32m     21\u001b[0m \u001b[0;31m# print(type(lt1)) # removed extraneous parenthesis after type\u001b[0m\u001b[0;34m\u001b[0m\u001b[0;34m\u001b[0m\u001b[0m\n\u001b[1;32m     22\u001b[0m \u001b[0mprint\u001b[0m\u001b[0;34m(\u001b[0m\u001b[0mvec1\u001b[0m\u001b[0;34m)\u001b[0m\u001b[0;34m\u001b[0m\u001b[0;34m\u001b[0m\u001b[0m\n\u001b[0;32m---> 23\u001b[0;31m \u001b[0mprint\u001b[0m\u001b[0;34m(\u001b[0m\u001b[0msvec1\u001b[0m\u001b[0;34m)\u001b[0m\u001b[0;34m\u001b[0m\u001b[0;34m\u001b[0m\u001b[0m\n\u001b[0m\u001b[1;32m     24\u001b[0m \u001b[0;31m# print(type(vec1))\u001b[0m\u001b[0;34m\u001b[0m\u001b[0;34m\u001b[0m\u001b[0m\n\u001b[1;32m     25\u001b[0m \u001b[0;34m\u001b[0m\u001b[0m\n",
            "\u001b[0;31mNameError\u001b[0m: name 'svec1' is not defined"
          ]
        }
      ]
    }
  ]
}