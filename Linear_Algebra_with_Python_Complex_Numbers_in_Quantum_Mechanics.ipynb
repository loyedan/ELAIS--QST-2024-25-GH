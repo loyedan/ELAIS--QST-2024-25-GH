{
  "nbformat": 4,
  "nbformat_minor": 0,
  "metadata": {
    "colab": {
      "provenance": [],
      "authorship_tag": "ABX9TyP4pPv4WGLX7HRu0mjEajIh",
      "include_colab_link": true
    },
    "kernelspec": {
      "name": "python3",
      "display_name": "Python 3"
    },
    "language_info": {
      "name": "python"
    }
  },
  "cells": [
    {
      "cell_type": "markdown",
      "metadata": {
        "id": "view-in-github",
        "colab_type": "text"
      },
      "source": [
        "<a href=\"https://colab.research.google.com/github/loyedan/ELAIS--QST-2024-25-GH/blob/main/Linear_Algebra_with_Python_Complex_Numbers_in_Quantum_Mechanics.ipynb\" target=\"_parent\"><img src=\"https://colab.research.google.com/assets/colab-badge.svg\" alt=\"Open In Colab\"/></a>"
      ]
    },
    {
      "cell_type": "markdown",
      "source": [
        "# **Linear Algebra with Python - Complex Numbers in Quantum Mechanics.**"
      ],
      "metadata": {
        "id": "Dlzt744BFF4x"
      }
    },
    {
      "cell_type": "markdown",
      "source": [
        "Complex Numbers"
      ],
      "metadata": {
        "id": "9SbV7dbnFXIm"
      }
    },
    {
      "cell_type": "markdown",
      "source": [
        "Complex numbers = Real + imaginary number\n",
        "\n",
        "Real number = rational number + irrational number"
      ],
      "metadata": {
        "id": "7T-2zD65IOBK"
      }
    },
    {
      "cell_type": "markdown",
      "source": [
        "### **Example from Gemini**"
      ],
      "metadata": {
        "id": "vFdBQlJBMLye"
      }
    },
    {
      "source": [
        "import numpy as np\n",
        "\n",
        "# Define a complex number\n",
        "z = 1 + 2j\n",
        "\n",
        "# Get the real and imaginary parts\n",
        "real = z.real\n",
        "imag = z.imag\n",
        "\n",
        "# Calculate the magnitude and phase\n",
        "magnitude = abs(z)\n",
        "phase = np.arctan(imag/real)\n",
        "\n",
        "# Create a complex number from magnitude and phase\n",
        "z2 = magnitude * np.exp(1j * phase)\n",
        "\n",
        "# Print the results\n",
        "print(\"Complex number:\", z)\n",
        "print(\"Real part:\", real)\n",
        "print(\"Imaginary part:\", imag)\n",
        "print(\"Magnitude:\", magnitude)\n",
        "print(\"Phase:\", phase)\n",
        "print(\"Complex number from magnitude and phase:\", z2)\n",
        "\n",
        "\n",
        "# Define a quantum state using a complex vector\n",
        "ket0 = np.array([1, 0])\n",
        "ket1 = np.array([0, 1])\n",
        "\n",
        "# Create a superposition state\n",
        "psi = (1/np.sqrt(2)) * (ket0 + 1j*ket1)\n",
        "\n",
        "# Print the state\n",
        "print(\"Superposition state:\", psi)\n",
        "\n",
        "# Calculate the probability of measuring 0\n",
        "prob0 = abs(psi[0])**2\n",
        "print(\"Probability of measuring 0:\", prob0)"
      ],
      "cell_type": "code",
      "metadata": {
        "colab": {
          "base_uri": "https://localhost:8080/"
        },
        "id": "5b-tN-B9Lu50",
        "outputId": "17e47e2e-3704-4934-cd61-378db8f33b0c"
      },
      "execution_count": 1,
      "outputs": [
        {
          "output_type": "stream",
          "name": "stdout",
          "text": [
            "Complex number: (1+2j)\n",
            "Real part: 1.0\n",
            "Imaginary part: 2.0\n",
            "Magnitude: 2.23606797749979\n",
            "Phase: 1.1071487177940904\n",
            "Complex number from magnitude and phase: (1.0000000000000002+2j)\n",
            "Superposition state: [0.70710678+0.j         0.        +0.70710678j]\n",
            "Probability of measuring 0: 0.4999999999999999\n"
          ]
        }
      ]
    },
    {
      "cell_type": "markdown",
      "source": [
        "Example code"
      ],
      "metadata": {
        "id": "2oEUMauyME04"
      }
    },
    {
      "cell_type": "code",
      "source": [
        "z = 3 + 1j\n",
        "\n",
        "z = complex"
      ],
      "metadata": {
        "id": "Uat6ulUKMCxv"
      },
      "execution_count": null,
      "outputs": []
    }
  ]
}